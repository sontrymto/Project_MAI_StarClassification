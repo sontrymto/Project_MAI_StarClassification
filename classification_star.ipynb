{
 "cells": [
  {
   "cell_type": "code",
   "execution_count": 519,
   "metadata": {},
   "outputs": [],
   "source": [
    "import pandas as pd\n",
    "import numpy as np\n",
    "import matplotlib.pyplot as plt\n",
    "import seaborn as sns\n",
    "import warnings\n",
    "warnings.filterwarnings('ignore')"
   ]
  },
  {
   "cell_type": "markdown",
   "metadata": {},
   "source": [
    "## Read data and processing"
   ]
  },
  {
   "cell_type": "code",
   "execution_count": 520,
   "metadata": {},
   "outputs": [
    {
     "data": {
      "text/html": [
       "<div>\n",
       "<style scoped>\n",
       "    .dataframe tbody tr th:only-of-type {\n",
       "        vertical-align: middle;\n",
       "    }\n",
       "\n",
       "    .dataframe tbody tr th {\n",
       "        vertical-align: top;\n",
       "    }\n",
       "\n",
       "    .dataframe thead th {\n",
       "        text-align: right;\n",
       "    }\n",
       "</style>\n",
       "<table border=\"1\" class=\"dataframe\">\n",
       "  <thead>\n",
       "    <tr style=\"text-align: right;\">\n",
       "      <th></th>\n",
       "      <th>Temperature</th>\n",
       "      <th>L</th>\n",
       "      <th>R</th>\n",
       "      <th>A_M</th>\n",
       "      <th>Color</th>\n",
       "      <th>Spectral_Class</th>\n",
       "      <th>Type</th>\n",
       "    </tr>\n",
       "  </thead>\n",
       "  <tbody>\n",
       "    <tr>\n",
       "      <th>0</th>\n",
       "      <td>3068</td>\n",
       "      <td>0.002400</td>\n",
       "      <td>0.1700</td>\n",
       "      <td>16.12</td>\n",
       "      <td>Red</td>\n",
       "      <td>M</td>\n",
       "      <td>Red Dwarf</td>\n",
       "    </tr>\n",
       "    <tr>\n",
       "      <th>1</th>\n",
       "      <td>3042</td>\n",
       "      <td>0.000500</td>\n",
       "      <td>0.1542</td>\n",
       "      <td>16.60</td>\n",
       "      <td>Red</td>\n",
       "      <td>M</td>\n",
       "      <td>Red Dwarf</td>\n",
       "    </tr>\n",
       "    <tr>\n",
       "      <th>2</th>\n",
       "      <td>2600</td>\n",
       "      <td>0.000300</td>\n",
       "      <td>0.1020</td>\n",
       "      <td>18.70</td>\n",
       "      <td>Red</td>\n",
       "      <td>M</td>\n",
       "      <td>Red Dwarf</td>\n",
       "    </tr>\n",
       "    <tr>\n",
       "      <th>3</th>\n",
       "      <td>2800</td>\n",
       "      <td>0.000200</td>\n",
       "      <td>0.1600</td>\n",
       "      <td>16.65</td>\n",
       "      <td>Red</td>\n",
       "      <td>M</td>\n",
       "      <td>Red Dwarf</td>\n",
       "    </tr>\n",
       "    <tr>\n",
       "      <th>4</th>\n",
       "      <td>1939</td>\n",
       "      <td>0.000138</td>\n",
       "      <td>0.1030</td>\n",
       "      <td>20.06</td>\n",
       "      <td>Red</td>\n",
       "      <td>M</td>\n",
       "      <td>Red Dwarf</td>\n",
       "    </tr>\n",
       "  </tbody>\n",
       "</table>\n",
       "</div>"
      ],
      "text/plain": [
       "   Temperature         L       R    A_M Color Spectral_Class       Type\n",
       "0         3068  0.002400  0.1700  16.12   Red              M  Red Dwarf\n",
       "1         3042  0.000500  0.1542  16.60   Red              M  Red Dwarf\n",
       "2         2600  0.000300  0.1020  18.70   Red              M  Red Dwarf\n",
       "3         2800  0.000200  0.1600  16.65   Red              M  Red Dwarf\n",
       "4         1939  0.000138  0.1030  20.06   Red              M  Red Dwarf"
      ]
     },
     "execution_count": 520,
     "metadata": {},
     "output_type": "execute_result"
    }
   ],
   "source": [
    "data = pd.read_csv('Stars_original.csv')\n",
    "data.head()"
   ]
  },
  {
   "cell_type": "code",
   "execution_count": 521,
   "metadata": {},
   "outputs": [
    {
     "data": {
      "text/plain": [
       "array(['Red Dwarf', 'Brown Dwarf', 'White Dwarf', 'Main Sequence',\n",
       "       'Supergiant', 'Hypergiant'], dtype=object)"
      ]
     },
     "execution_count": 521,
     "metadata": {},
     "output_type": "execute_result"
    }
   ],
   "source": [
    "data['Type'].unique()"
   ]
  },
  {
   "cell_type": "code",
   "execution_count": 522,
   "metadata": {},
   "outputs": [
    {
     "data": {
      "text/plain": [
       "array([[3068, 0.0024, 0.17, ..., 'Red', 'M', 'Red Dwarf'],\n",
       "       [3042, 0.0005, 0.1542, ..., 'Red', 'M', 'Red Dwarf'],\n",
       "       [2600, 0.0003, 0.102, ..., 'Red', 'M', 'Red Dwarf'],\n",
       "       ...,\n",
       "       [8829, 537493.0, 1423.0, ..., 'White', 'A', 'Hypergiant'],\n",
       "       [9235, 404940.0, 1112.0, ..., 'White', 'A', 'Hypergiant'],\n",
       "       [37882, 294903.0, 1783.0, ..., 'Blue', 'O', 'Hypergiant']],\n",
       "      dtype=object)"
      ]
     },
     "execution_count": 522,
     "metadata": {},
     "output_type": "execute_result"
    }
   ],
   "source": [
    "a = data.to_numpy()\n",
    "a"
   ]
  },
  {
   "cell_type": "code",
   "execution_count": 523,
   "metadata": {},
   "outputs": [
    {
     "data": {
      "text/plain": [
       "array(['Red Dwarf', 'Brown Dwarf', 'White Dwarf', 'Main Sequence',\n",
       "       'Supergiant', 'Hypergiant'], dtype=object)"
      ]
     },
     "execution_count": 523,
     "metadata": {},
     "output_type": "execute_result"
    }
   ],
   "source": [
    "data['Type'].unique()"
   ]
  },
  {
   "cell_type": "code",
   "execution_count": 524,
   "metadata": {},
   "outputs": [],
   "source": [
    "# Label encoding\n",
    "def label_encoding(data,column):\n",
    "    dict_label = {infor : label for label,infor in enumerate(data[column].unique())}\n",
    "    # map key\n",
    "    return data[column].map(dict_label)\n",
    "    "
   ]
  },
  {
   "cell_type": "code",
   "execution_count": 525,
   "metadata": {},
   "outputs": [],
   "source": [
    "# label encoding\n",
    "for i in data.columns:\n",
    "    if data[i].dtype == 'object':\n",
    "        data[i] = label_encoding(data,i)"
   ]
  },
  {
   "cell_type": "code",
   "execution_count": 526,
   "metadata": {},
   "outputs": [
    {
     "data": {
      "text/html": [
       "<div>\n",
       "<style scoped>\n",
       "    .dataframe tbody tr th:only-of-type {\n",
       "        vertical-align: middle;\n",
       "    }\n",
       "\n",
       "    .dataframe tbody tr th {\n",
       "        vertical-align: top;\n",
       "    }\n",
       "\n",
       "    .dataframe thead th {\n",
       "        text-align: right;\n",
       "    }\n",
       "</style>\n",
       "<table border=\"1\" class=\"dataframe\">\n",
       "  <thead>\n",
       "    <tr style=\"text-align: right;\">\n",
       "      <th></th>\n",
       "      <th>Temperature</th>\n",
       "      <th>L</th>\n",
       "      <th>R</th>\n",
       "      <th>A_M</th>\n",
       "      <th>Color</th>\n",
       "      <th>Spectral_Class</th>\n",
       "      <th>Type</th>\n",
       "    </tr>\n",
       "  </thead>\n",
       "  <tbody>\n",
       "    <tr>\n",
       "      <th>0</th>\n",
       "      <td>3068</td>\n",
       "      <td>0.002400</td>\n",
       "      <td>0.1700</td>\n",
       "      <td>16.12</td>\n",
       "      <td>0</td>\n",
       "      <td>0</td>\n",
       "      <td>0</td>\n",
       "    </tr>\n",
       "    <tr>\n",
       "      <th>1</th>\n",
       "      <td>3042</td>\n",
       "      <td>0.000500</td>\n",
       "      <td>0.1542</td>\n",
       "      <td>16.60</td>\n",
       "      <td>0</td>\n",
       "      <td>0</td>\n",
       "      <td>0</td>\n",
       "    </tr>\n",
       "    <tr>\n",
       "      <th>2</th>\n",
       "      <td>2600</td>\n",
       "      <td>0.000300</td>\n",
       "      <td>0.1020</td>\n",
       "      <td>18.70</td>\n",
       "      <td>0</td>\n",
       "      <td>0</td>\n",
       "      <td>0</td>\n",
       "    </tr>\n",
       "    <tr>\n",
       "      <th>3</th>\n",
       "      <td>2800</td>\n",
       "      <td>0.000200</td>\n",
       "      <td>0.1600</td>\n",
       "      <td>16.65</td>\n",
       "      <td>0</td>\n",
       "      <td>0</td>\n",
       "      <td>0</td>\n",
       "    </tr>\n",
       "    <tr>\n",
       "      <th>4</th>\n",
       "      <td>1939</td>\n",
       "      <td>0.000138</td>\n",
       "      <td>0.1030</td>\n",
       "      <td>20.06</td>\n",
       "      <td>0</td>\n",
       "      <td>0</td>\n",
       "      <td>0</td>\n",
       "    </tr>\n",
       "  </tbody>\n",
       "</table>\n",
       "</div>"
      ],
      "text/plain": [
       "   Temperature         L       R    A_M  Color  Spectral_Class  Type\n",
       "0         3068  0.002400  0.1700  16.12      0               0     0\n",
       "1         3042  0.000500  0.1542  16.60      0               0     0\n",
       "2         2600  0.000300  0.1020  18.70      0               0     0\n",
       "3         2800  0.000200  0.1600  16.65      0               0     0\n",
       "4         1939  0.000138  0.1030  20.06      0               0     0"
      ]
     },
     "execution_count": 526,
     "metadata": {},
     "output_type": "execute_result"
    }
   ],
   "source": [
    "data.head()"
   ]
  },
  {
   "cell_type": "code",
   "execution_count": 527,
   "metadata": {},
   "outputs": [
    {
     "data": {
      "text/plain": [
       "array([0, 1, 2, 3, 4, 5], dtype=int64)"
      ]
     },
     "execution_count": 527,
     "metadata": {},
     "output_type": "execute_result"
    }
   ],
   "source": [
    "data['Type'].unique()"
   ]
  },
  {
   "cell_type": "markdown",
   "metadata": {},
   "source": [
    "## Training"
   ]
  },
  {
   "cell_type": "markdown",
   "metadata": {},
   "source": [
    "### Extract feature"
   ]
  },
  {
   "cell_type": "code",
   "execution_count": 528,
   "metadata": {},
   "outputs": [],
   "source": [
    "X,y = data.drop('Type',axis=1),data['Type']"
   ]
  },
  {
   "cell_type": "code",
   "execution_count": 529,
   "metadata": {},
   "outputs": [],
   "source": [
    "class LDA:\n",
    "        '''\n",
    "        Inverse transform\n",
    "\n",
    "        Atributes:\n",
    "        X_transformed: numpy array, shape = [n_samples,n_components]\n",
    "        Returns:\n",
    "        X_projected: numpy array, shape = [n_samples,n_features]\n",
    "    \n",
    "        '''\n",
    "        def __init__(self,n_components):\n",
    "            '''\n",
    "            Parameters:\n",
    "            n_components: int, default = 2\n",
    "\n",
    "            '''\n",
    "            self.n_components = n_components\n",
    "            self.linear_discriminants = None\n",
    "        def fit(self,X,y):\n",
    "\n",
    "            '''\n",
    "            Parameters:\n",
    "            X: numpy array, shape = [n_samples,n_features]\n",
    "            y: numpy array, shape = [n_samples,]\n",
    "            '''\n",
    "            n_features = X.shape[1]\n",
    "            class_lables = np.unique(y)\n",
    "\n",
    "            # S_W , S_B\n",
    "            mean_overall = np.mean(X,axis = 0)\n",
    "            S_W = np.zeros((n_features,n_features))\n",
    "            S_B = np.zeros((n_features,n_features))\n",
    "\n",
    "            for c in class_lables:\n",
    "                X_c = X[y == c]\n",
    "                mean_c = np.mean(X_c,axis = 0)\n",
    "                # 4,4\n",
    "                S_W += (X_c - mean_c).T.dot(X_c - mean_c)\n",
    "                n_c = X_c.shape[0]\n",
    "                mean_diff = (mean_c - mean_overall).reshape(n_features,1)\n",
    "                S_B += n_c * (mean_diff).dot(mean_diff.T)\n",
    "            A = np.linalg.inv(S_W).dot(S_B)\n",
    "            # Same PCA\n",
    "            eigenvalues,eigenveactors = np.linalg.eig(A)\n",
    "            eigenveactors = eigenveactors.T\n",
    "            indexs = np.argsort(abs(eigenvalues))[::-1]\n",
    "            eigenvalues = eigenvalues[indexs]\n",
    "            eigenvectors = eigenveactors[indexs]\n",
    "            self.linear_discriminants = eigenvectors[0:self.n_components]\n",
    "\n",
    "        def transform(self,X):\n",
    "\n",
    "            '''\n",
    "            Parameters:\n",
    "            X: numpy array, shape = [n_samples,n_features]\n",
    "            '''\n",
    "            return np.dot(X,self.linear_discriminants.T)"
   ]
  },
  {
   "cell_type": "code",
   "execution_count": 530,
   "metadata": {},
   "outputs": [],
   "source": [
    "lda = LDA(n_components=4)\n",
    "lda.fit(X.to_numpy(),y)\n",
    "X = lda.transform(X.to_numpy())\n",
    "y = y.to_numpy()"
   ]
  },
  {
   "cell_type": "code",
   "execution_count": 531,
   "metadata": {},
   "outputs": [],
   "source": [
    "# Get test and train data from X using sample in numpy\n",
    "def train_test_split(X,y,test_size):\n",
    "    # Get index\n",
    "    index = np.arange(X.shape[0])\n",
    "    # Shuffle index\n",
    "    np.random.shuffle(index)\n",
    "    # Get test size\n",
    "    test_size = int(X.shape[0] * test_size)\n",
    "    # Get test and train index\n",
    "    test_index = index[:test_size]\n",
    "    train_index = index[test_size:]\n",
    "    # Get test and train data\n",
    "    X_train,y_train = X[train_index],y[train_index]\n",
    "    X_test,y_test = X[test_index],y[test_index]\n",
    "    return X_train,y_train,X_test,y_test"
   ]
  },
  {
   "cell_type": "code",
   "execution_count": 532,
   "metadata": {},
   "outputs": [],
   "source": [
    "X_train,y_train,X_test,y_test = train_test_split(X,y,test_size=0.2)"
   ]
  },
  {
   "cell_type": "markdown",
   "metadata": {},
   "source": [
    "### Softmax Regression"
   ]
  },
  {
   "cell_type": "code",
   "execution_count": 533,
   "metadata": {},
   "outputs": [],
   "source": [
    "import numpy as np\n",
    "import matplotlib.pyplot as plt\n",
    "\n",
    "class MultiClassLogisticRegression:\n",
    "    '''\n",
    "        Me\n",
    "    '''\n",
    "    def __init__(self, n_iter = 10000, thres=1e-3):\n",
    "        self.n_iter = n_iter\n",
    "        self.thres = thres\n",
    "    \n",
    "    def fit(self, X, y, batch_size=64, lr=0.01, rand_seed=4, verbose=False): \n",
    "        np.random.seed(rand_seed) \n",
    "        self.classes = np.unique(y)\n",
    "        self.class_labels = {c:i for i,c in enumerate(self.classes)}\n",
    "        X = self.add_bias(X)\n",
    "        y = self.one_hot(y)\n",
    "        self.loss = []\n",
    "        self.acc = []\n",
    "        self.weights = np.zeros(shape=(len(self.classes),X.shape[1]))\n",
    "        self.fit_data(X, y, batch_size, lr, verbose)\n",
    "        return self\n",
    " \n",
    "    def fit_data(self, X, y, batch_size, lr, verbose):\n",
    "        i = 0\n",
    "        while (not self.n_iter or i < self.n_iter):\n",
    "            self.loss.append(self.cross_entropy(y, self.predict_(X)))\n",
    "            idx = np.random.choice(X.shape[0], batch_size)\n",
    "            X_batch, y_batch = X[idx], y[idx]\n",
    "            error = y_batch - self.predict_(X_batch)\n",
    "            update = (lr * np.dot(error.T, X_batch))\n",
    "            self.weights += update\n",
    "            if np.abs(update).max() < self.thres: break\n",
    "            self.acc.append(self.evaluate_(X, y))\n",
    "            if i % 100 == 0 and verbose: \n",
    "                print('Training Accuray at {} iterations is {}'.format(i, self.evaluate_(X, y)))\n",
    "            i +=1\n",
    "                \n",
    "    \n",
    "    def predict(self, X):\n",
    "        return self.predict_(self.add_bias(X))\n",
    "    \n",
    "    def predict_(self, X):\n",
    "        pre_vals = np.dot(X, self.weights.T).reshape(-1,len(self.classes))\n",
    "        return self.softmax(pre_vals)\n",
    "    \n",
    "    def softmax(self, z):\n",
    "        return np.exp(z) / np.sum(np.exp(z), axis=1).reshape(-1,1)\n",
    "\n",
    "    def predict_classes(self, X):\n",
    "        self.probs_ = self.predict(X)\n",
    "        return np.vectorize(lambda c: self.classes[c])(np.argmax(self.probs_, axis=1))\n",
    "  \n",
    "    def add_bias(self,X):\n",
    "        return np.insert(X, 0, 1, axis=1)\n",
    "  \n",
    "    def get_randon_weights(self, row, col):\n",
    "        return np.zeros(shape=(row,col))\n",
    "\n",
    "    def one_hot(self, y):\n",
    "        return np.eye(len(self.classes))[np.vectorize(lambda c: self.class_labels[c])(y).reshape(-1)]\n",
    "    \n",
    "    def score(self, X, y):\n",
    "        return np.mean(self.predict_classes(X) == y)\n",
    "    \n",
    "    def evaluate_(self, X, y):\n",
    "        return np.mean(np.argmax(self.predict_(X), axis=1) == np.argmax(y, axis=1))\n",
    "    \n",
    "    def cross_entropy(self, y, probs):\n",
    "        return -1 * np.mean(y * np.log(probs))"
   ]
  },
  {
   "cell_type": "code",
   "execution_count": 549,
   "metadata": {},
   "outputs": [
    {
     "data": {
      "text/plain": [
       "array([180, 162,  43, 118,  80, 178, 164,  68, 146, 172,  18, 128, 180,\n",
       "        34,  26, 152, 164, 111,  58, 117, 158, 159,  47,  53, 189,  80,\n",
       "        48, 170, 124, 181,  40, 152,  38,  11,  42,  99, 184,  51,   1,\n",
       "        12, 183, 132, 183, 191, 132, 154,  89,   1,  22,  74, 155, 173,\n",
       "       182, 161, 108,  70,  56,  60,  89, 152,  72, 156, 161, 109, 132,\n",
       "       168, 178,  31, 183,  40, 185,  30, 100,  32, 173, 123,  29,   8,\n",
       "       134,  30,  53, 102, 130, 119,  66, 128,  24,  84, 146,  43,  30,\n",
       "        75,  92,  15,  54, 117,  72, 102,  17, 158,  65,  78,  14, 107,\n",
       "       132,  26,  76,  24,  20, 112, 164,  70,  64, 171, 154, 185,  50,\n",
       "        54,  39, 181, 176, 138,  38,  13,  29,  33,  89,  16, 191,  71,\n",
       "       128,  89, 136,  27, 154, 141,  90,  28,  48,  85, 173,  12, 108,\n",
       "        25,  21,  85, 153, 119, 164,  89, 102,  66,  53, 184,  57, 133,\n",
       "       171, 102, 107,  27, 116,   3,  52,  66, 149,  47,  48, 179,  27,\n",
       "       131, 169,  38,  68,  53, 191,  19, 178, 130,  40, 153,  60,  83,\n",
       "       120, 149, 146, 181, 124, 144,  34, 151, 148, 161,  33, 120,  70,\n",
       "         8, 137,  26, 126, 139,  81, 166,  61, 174,  40,   7, 142, 165,\n",
       "        10, 145, 117,  88,  13, 148,  23, 122, 124,  66, 166, 137,  67,\n",
       "       179, 157, 138,  38,  68, 153,  13,   0, 168, 179,  47,  56,  10,\n",
       "        52,  72, 124,  27, 185, 156,  31,  38,  46,  91,  72,  51, 189,\n",
       "        74, 178,  18,  42, 187,   5,   0,  85,  26, 118, 131, 161,  71,\n",
       "        14,  26,  84, 131,  66,  46,  28, 124,  44,  88,  54,  33, 103,\n",
       "       142, 152, 126, 112, 171, 123, 103, 131, 162,  48, 174,   2,  48,\n",
       "        16,  38,  74,  81,  51,  56, 135,  91, 177,   9, 188,  93,  14,\n",
       "       100,  49, 106, 122, 191, 161,  19,  91, 182, 175,  95,  19,  25,\n",
       "       176,  79,  87, 191, 168,  80,  22, 159, 184, 128, 138,  29, 189,\n",
       "        38, 136,  63,  34, 145, 112, 126, 149,  85,  14,  38, 185,   9,\n",
       "        95, 190, 189,  40, 138, 185,  10, 136, 138, 169,  69, 161,   8,\n",
       "       153,  94, 161,  87,  57,  90,  99,  29,  44,   3, 131,  61,  24,\n",
       "        26, 163, 134, 154,  42, 121,   3, 181,  55, 121, 114,  98, 155,\n",
       "       175, 161, 173,  16, 137,  60,  48, 115, 156, 136,  46,  96,  49,\n",
       "       164, 160,  86,  70,   9,  10,  92,  41,  22, 129, 116, 157,  98,\n",
       "        49, 141, 189,  38,  13, 143,  45,  47, 100,   2,  56, 135, 118,\n",
       "       190, 137, 139, 147,  66, 119, 157,  87,  26,  29, 131, 143,  81,\n",
       "        85,  48, 118, 159,  83,  85,  21, 147, 155, 180, 186, 156,  13,\n",
       "        87, 163, 103,  61,   8,  65, 126,   6,   4,  12, 113,  89, 177,\n",
       "        70,  93,  46, 141,   5, 188,  51,  79, 125,  39,  19, 177,  37,\n",
       "       190, 168, 148,   3, 138,  81, 171, 185, 141, 190,  48, 140,  37,\n",
       "       108,  27, 100, 121,  48,  69, 104, 158,  52, 109,  34, 111, 130,\n",
       "        75,  87, 150, 106, 177,  41, 157, 180, 155, 185, 148, 104, 108,\n",
       "        46,  24,  38, 120,  22, 182, 187,  92, 160,  97, 142,  41, 121,\n",
       "        65, 175, 160, 187, 130,  17, 181, 126,  90, 105, 144,  26, 175,\n",
       "       152, 133,  22, 153,  83,  16,  91,  63, 167,  19, 108, 125,  25,\n",
       "        94, 136,  97,  84, 114, 151, 128,  48, 147,  60,  29, 182, 176,\n",
       "       116, 143, 166,  39, 162,  45,  31, 177, 173,  49, 140,  61, 149,\n",
       "        16, 121,   1, 113, 117,  22,  31,   9,  27, 103, 153,  16, 118,\n",
       "       104,  98, 159,  80,  83, 112,  38,  44, 159,  97,  77, 126, 189,\n",
       "        52,  86, 120,  41, 117,  37, 163,  56, 128, 140,  25,  37,  34,\n",
       "        72, 117,  49,   7, 139,  93, 106,  12, 162, 167, 181,  27,   9,\n",
       "        34, 121,  75,   8,  83,  85,  30,  47, 185,  31,  65, 160, 123,\n",
       "         1,  94,  14, 189, 117, 157, 122,  85, 163, 190,  41,   1, 112,\n",
       "       129,  79,  54, 171,  44,  15, 185,   5, 129, 137, 153, 184, 105,\n",
       "        36,   8,  68, 174,  15, 102,   7,  66, 178, 184,  92,  45, 146,\n",
       "        86, 132, 168,  55,  62, 124, 152,  97, 120, 148,  79, 111,  46,\n",
       "        97, 108,  54,  86, 179, 156,  39,   9,  46, 134,  59,  33,  23,\n",
       "        76,  62, 185,  78, 116,  77, 162,  48, 191,  56, 108,  12,  48,\n",
       "       183, 157,  24,  89, 140, 113,  49,  59,  43, 114, 114,  44, 145,\n",
       "         0, 160, 127, 184,  64, 115,  22,  61,  24, 186,  50,  55, 120,\n",
       "       174,  64, 169,  25, 185,  26,  53,  81, 154, 149,  26, 126,  15,\n",
       "        56,  61,   5,  24, 105,  63, 166, 114, 134,  43,  72, 131, 119,\n",
       "        30,  83, 155, 100, 130, 139, 102, 125,  38,   1, 126, 189, 191,\n",
       "       183,  32, 186, 125, 176,  52,  47, 105,  54, 115,  43, 157,  18,\n",
       "       177, 122,  92,  29, 180,  25,  83,  42, 178, 182, 181, 124,  25,\n",
       "       104, 115, 130, 106, 110,  63,   9, 132, 149,  90, 179, 160,  97,\n",
       "       167, 165,  89,  21,  98,  96,  39,  32, 147,  23, 129, 174,  40,\n",
       "       103,  10, 156,  61,  76,  38, 113,  65, 187,   0,  80,  95,  33,\n",
       "         9,  31, 145,  64,  59,  18,  56, 170,  66, 136, 111, 115,  83,\n",
       "       179,  40,  39,  51,  95, 130,  47,  12, 160, 157, 134,  29,  29,\n",
       "       171,  58, 185,  62,  96, 122, 168, 153,  11, 157, 112, 162,  71,\n",
       "         3, 131,  14,  67,  23,  63,  58, 133, 167,  43,  27, 162,  21,\n",
       "       155,  73, 151, 136, 109,  81, 163,  25, 113,   3,  31,  75,  38,\n",
       "        54, 184,  18, 148,  25,  37,  46,  79,  56, 115, 148, 121, 179,\n",
       "       137,  73,  37, 155, 153,  35,  49,  27, 106,  30,   7, 119, 109,\n",
       "       162, 105,  71,  14,  65, 141,  77,  47,  61,  69,  92, 140,  52,\n",
       "        27, 166,  70,  57, 137, 102, 171, 143,  28,   0,  35,  62, 107,\n",
       "        65,  36, 153,  71,  55, 179, 150, 140, 129, 173, 152, 154,  85,\n",
       "        23,  18, 130,  24, 122, 189,  32,  14, 150,  32, 134, 117,  15,\n",
       "       128, 173, 141, 175, 154,  90, 171,  74,  17, 182, 171, 134])"
      ]
     },
     "execution_count": 549,
     "metadata": {},
     "output_type": "execute_result"
    }
   ],
   "source": [
    "idx = np.random.choice(X_train.shape[0], 1000)\n",
    "idx"
   ]
  },
  {
   "cell_type": "code",
   "execution_count": 541,
   "metadata": {},
   "outputs": [
    {
     "name": "stdout",
     "output_type": "stream",
     "text": [
      "Score:  1.0\n"
     ]
    }
   ],
   "source": [
    "multi = MultiClassLogisticRegression(n_iter= 2500)\n",
    "multi.fit(X_train,y_train,lr=0.001,verbose=False)\n",
    "print('Score: ',multi.score(X_test,y_test))"
   ]
  },
  {
   "cell_type": "code",
   "execution_count": 542,
   "metadata": {},
   "outputs": [
    {
     "data": {
      "text/plain": [
       "[<matplotlib.lines.Line2D at 0x14ad47201c0>]"
      ]
     },
     "execution_count": 542,
     "metadata": {},
     "output_type": "execute_result"
    },
    {
     "data": {
      "image/png": "[encoded data removed]",
      "text/plain": [
       "<Figure size 432x288 with 1 Axes>"
      ]
     },
     "metadata": {
      "needs_background": "light"
     },
     "output_type": "display_data"
    }
   ],
   "source": [
    "plt.plot(multi.loss)"
   ]
  },
  {
   "cell_type": "code",
   "execution_count": 543,
   "metadata": {},
   "outputs": [
    {
     "data": {
      "text/plain": [
       "{0: 0, 1: 1, 2: 2, 3: 3, 4: 4, 5: 5}"
      ]
     },
     "execution_count": 543,
     "metadata": {},
     "output_type": "execute_result"
    }
   ],
   "source": [
    "multi.class_labels"
   ]
  },
  {
   "cell_type": "code",
   "execution_count": 544,
   "metadata": {},
   "outputs": [
    {
     "data": {
      "text/plain": [
       "array([1, 2, 0, 2, 3, 4, 1, 2, 3, 5, 5, 1, 5, 4, 5, 3, 5, 3, 5, 1, 1, 4,\n",
       "       1, 2, 3, 1, 5, 2, 5, 0, 3, 5, 5, 3, 3, 2, 0, 4, 4, 2, 0, 1, 3, 2,\n",
       "       2, 5, 2, 4, 5, 4, 2, 5, 5, 4, 4, 3, 1, 2, 4, 1, 2, 1, 4, 1, 3, 2,\n",
       "       1, 3, 0, 3, 0, 1, 0, 0, 2, 0, 5, 0, 3, 5, 1, 4, 0, 2, 4, 3, 4, 0,\n",
       "       1, 5, 4, 2, 3, 3, 0, 5, 2, 5, 4, 3, 3, 3, 3, 4, 2, 1, 5, 4, 1, 5,\n",
       "       3, 3, 2, 0, 0, 0, 1, 0, 2, 0, 0, 0, 2, 1, 3, 0, 3, 4, 0, 4, 0, 2,\n",
       "       2, 0, 3, 4, 0, 4, 3, 1, 2, 3, 1, 1, 4, 1, 2, 0, 5, 0, 1, 4, 1, 3,\n",
       "       1, 5, 4, 5, 5, 5, 2, 4, 2, 1, 3, 4, 3, 0, 4, 2, 2, 1, 4, 3, 2, 4,\n",
       "       5, 1, 0, 0, 3, 0, 5, 3, 2, 5, 2, 2, 4, 2, 1, 5])"
      ]
     },
     "execution_count": 544,
     "metadata": {},
     "output_type": "execute_result"
    }
   ],
   "source": [
    "np.vectorize(lambda c: multi.class_labels[c])(y_train).reshape(-1)"
   ]
  },
  {
   "cell_type": "code",
   "execution_count": 547,
   "metadata": {},
   "outputs": [
    {
     "data": {
      "text/plain": [
       "(array([[0., 1., 0., 0., 0., 0.],\n",
       "        [0., 0., 1., 0., 0., 0.],\n",
       "        [1., 0., 0., 0., 0., 0.],\n",
       "        ...,\n",
       "        [0., 0., 1., 0., 0., 0.],\n",
       "        [0., 1., 0., 0., 0., 0.],\n",
       "        [0., 0., 0., 0., 0., 1.]]),\n",
       " array([[0., 1., 0., 0., 0., 0.],\n",
       "        [0., 0., 1., 0., 0., 0.],\n",
       "        [1., 0., 0., 0., 0., 0.],\n",
       "        ...,\n",
       "        [0., 0., 1., 0., 0., 0.],\n",
       "        [0., 1., 0., 0., 0., 0.],\n",
       "        [0., 0., 0., 0., 0., 1.]]))"
      ]
     },
     "execution_count": 547,
     "metadata": {},
     "output_type": "execute_result"
    }
   ],
   "source": [
    "np.eye(6)[np.vectorize(lambda c: multi.class_labels[c])(y_train).reshape(-1)],np.eye(6)[(y_train).reshape(-1)]\n"
   ]
  },
  {
   "cell_type": "code",
   "execution_count": 539,
   "metadata": {},
   "outputs": [
    {
     "data": {
      "text/plain": [
       "[<matplotlib.lines.Line2D at 0x14ad46c02e0>]"
      ]
     },
     "execution_count": 539,
     "metadata": {},
     "output_type": "execute_result"
    },
    {
     "data": {
      "image/png": "[encoded data removed]",
      "text/plain": [
       "<Figure size 432x288 with 1 Axes>"
      ]
     },
     "metadata": {
      "needs_background": "light"
     },
     "output_type": "display_data"
    }
   ],
   "source": [
    "plt.plot(multi.acc)"
   ]
  },
  {
   "cell_type": "code",
   "execution_count": 540,
   "metadata": {},
   "outputs": [
    {
     "name": "stdout",
     "output_type": "stream",
     "text": [
      "[[0.01165623 0.03168492 0.08612854 0.23412166 0.63640865]]\n"
     ]
    }
   ],
   "source": [
    "z = np.array([1,2,3,4,5])\n",
    "z = np.exp(z) / np.sum(np.exp(z), axis=0).reshape(-1,1)\n",
    "print(z)"
   ]
  },
  {
   "cell_type": "markdown",
   "metadata": {},
   "source": [
    "https://phamdinhkhanh.github.io/2020/07/25/GAN_Wasserstein.html"
   ]
  }
 ],
 "metadata": {
  "kernelspec": {
   "display_name": "Python 3.10.8 64-bit (microsoft store)",
   "language": "python",
   "name": "python3"
  },
  "language_info": {
   "codemirror_mode": {
    "name": "ipython",
    "version": 3
   },
   "file_extension": ".py",
   "mimetype": "text/x-python",
   "name": "python",
   "nbconvert_exporter": "python",
   "pygments_lexer": "ipython3",
   "version": "3.10.8"
  },
  "orig_nbformat": 4,
  "vscode": {
   "interpreter": {
    "hash": "aa38ca2d4ac5334f8facb9127846041594939b57ea42b4afe5d7eb655aac64f1"
   }
  }
 },
 "nbformat": 4,
 "nbformat_minor": 2
}
